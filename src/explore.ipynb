{
    "cells": [
        {
            "cell_type": "markdown",
            "metadata": {},
            "source": [
                "# RADIO KNN\n",
                "---------------------------------------------\n",
                "\n",
                "Este proyecto nace de la necesidad de poder mezclar mis playlist de death metal con la de las monas chinas, además de poder escuchar mis podcast y las noticias para darle una sensación de humanidad a mis viajes en coche.\n",
                "\n",
                "### PRIMEROS PASOS\n",
                "-----------------------------------------------\n",
                "\n",
                "- Lo primero que vamos a hacer es conectarnos a la API de Spotify utilizando la libreria Spotipy."
            ]
        },
        {
            "cell_type": "code",
            "execution_count": null,
            "metadata": {},
            "outputs": [],
            "source": [
                "# Your code here"
            ]
        }
    ],
    "metadata": {
        "kernelspec": {
            "display_name": "Python 3.8.13 64-bit ('3.8.13')",
            "language": "python",
            "name": "python3"
        },
        "language_info": {
            "codemirror_mode": {
                "name": "ipython",
                "version": 3
            },
            "file_extension": ".py",
            "mimetype": "text/x-python",
            "name": "python",
            "nbconvert_exporter": "python",
            "pygments_lexer": "ipython3",
            "version": "3.8.13"
        },
        "orig_nbformat": 4,
        "vscode": {
            "interpreter": {
                "hash": "110cc1dee26208153f2972f08a2ad52b6a56238dc66d48e87fb757ef2996db56"
            }
        }
    },
    "nbformat": 4,
    "nbformat_minor": 2
}
